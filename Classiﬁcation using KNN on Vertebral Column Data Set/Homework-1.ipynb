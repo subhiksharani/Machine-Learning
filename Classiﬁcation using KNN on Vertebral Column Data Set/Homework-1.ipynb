{
 "cells": [
  {
   "cell_type": "markdown",
   "metadata": {},
   "source": [
    "# Name: Subhiksha Rani  ;  Student ID: 9907399097"
   ]
  },
  {
   "cell_type": "code",
   "execution_count": 1,
   "metadata": {},
   "outputs": [],
   "source": [
    "import numpy as np\n",
    "import pandas as pd\n",
    "import matplotlib.pyplot as plt\n",
    "import seaborn as sns\n",
    "from sklearn.preprocessing import StandardScaler \n",
    "from sklearn.neighbors import KNeighborsClassifier\n",
    "from sklearn.metrics import classification_report, confusion_matrix\n",
    "import math"
   ]
  },
  {
   "cell_type": "markdown",
   "metadata": {},
   "source": [
    "Reading the data from file 'column_2C.dat'& saving it into a DataFrame and labelling the columns, then splitting it into 2 seperate DataFrames - 1. To hold values of NO 2. To hold values of AB"
   ]
  },
  {
   "cell_type": "code",
   "execution_count": 2,
   "metadata": {},
   "outputs": [
    {
     "ename": "FileNotFoundError",
     "evalue": "[Errno 2] No such file or directory: 'column_2C.dat'",
     "output_type": "error",
     "traceback": [
      "\u001b[1;31m---------------------------------------------------------------------------\u001b[0m",
      "\u001b[1;31mFileNotFoundError\u001b[0m                         Traceback (most recent call last)",
      "\u001b[1;32m<ipython-input-2-574e01091644>\u001b[0m in \u001b[0;36m<module>\u001b[1;34m\u001b[0m\n\u001b[1;32m----> 1\u001b[1;33m \u001b[0mfile\u001b[0m \u001b[1;33m=\u001b[0m \u001b[0mopen\u001b[0m\u001b[1;33m(\u001b[0m\u001b[1;34m'column_2C.dat'\u001b[0m\u001b[1;33m)\u001b[0m\u001b[1;33m\u001b[0m\u001b[1;33m\u001b[0m\u001b[0m\n\u001b[0m\u001b[0;32m      2\u001b[0m \u001b[0mlst\u001b[0m \u001b[1;33m=\u001b[0m \u001b[1;33m[\u001b[0m\u001b[1;33m]\u001b[0m\u001b[1;33m\u001b[0m\u001b[1;33m\u001b[0m\u001b[0m\n\u001b[0;32m      3\u001b[0m \u001b[1;32mfor\u001b[0m \u001b[0mitem\u001b[0m \u001b[1;32min\u001b[0m \u001b[0mfile\u001b[0m\u001b[1;33m:\u001b[0m\u001b[1;33m\u001b[0m\u001b[1;33m\u001b[0m\u001b[0m\n\u001b[0;32m      4\u001b[0m     \u001b[0mlst\u001b[0m \u001b[1;33m+=\u001b[0m \u001b[1;33m[\u001b[0m\u001b[0mitem\u001b[0m\u001b[1;33m.\u001b[0m\u001b[0msplit\u001b[0m\u001b[1;33m(\u001b[0m\u001b[1;33m)\u001b[0m\u001b[1;33m]\u001b[0m\u001b[1;33m\u001b[0m\u001b[1;33m\u001b[0m\u001b[0m\n\u001b[0;32m      5\u001b[0m \u001b[0mdata\u001b[0m \u001b[1;33m=\u001b[0m \u001b[0mpd\u001b[0m\u001b[1;33m.\u001b[0m\u001b[0mDataFrame\u001b[0m\u001b[1;33m(\u001b[0m\u001b[0mlst\u001b[0m\u001b[1;33m)\u001b[0m\u001b[1;33m\u001b[0m\u001b[1;33m\u001b[0m\u001b[0m\n",
      "\u001b[1;31mFileNotFoundError\u001b[0m: [Errno 2] No such file or directory: 'column_2C.dat'"
     ]
    }
   ],
   "source": [
    "file = open('column_2C.dat')\n",
    "lst = []\n",
    "for item in file:\n",
    "    lst += [item.split()]\n",
    "data = pd.DataFrame(lst)\n",
    "data.columns = ['PI','PT','LLA','SS','PR','SG','CL']\n",
    "SP_AB = data[data['CL'] == 'AB']\n",
    "SP_NO = data[data['CL'] == 'NO']"
   ]
  },
  {
   "cell_type": "markdown",
   "metadata": {},
   "source": [
    "Scatterplots:"
   ]
  },
  {
   "cell_type": "code",
   "execution_count": null,
   "metadata": {},
   "outputs": [],
   "source": [
    "plt.scatter(SP_AB['PI'], SP_AB['PT'], color = 'Green')\n",
    "plt.scatter(SP_NO['PI'], SP_NO['PT'], color = 'Red')\n",
    "plt.title('Scatter Plot-1')\n",
    "plt.xlabel('Pelvic Incidence')\n",
    "plt.ylabel('Pelvic Tilt')\n",
    "plt.show()"
   ]
  },
  {
   "cell_type": "code",
   "execution_count": null,
   "metadata": {},
   "outputs": [],
   "source": [
    "plt.scatter(SP_AB['PI'], SP_AB['LLA'], color = 'Brown')\n",
    "plt.scatter(SP_NO['PI'], SP_NO['LLA'], color = 'Yellow')\n",
    "plt.title('Scatter Plot-2')\n",
    "plt.xlabel('Pelvic Incidence')\n",
    "plt.ylabel('Lumbar Lordosis Angle')\n",
    "plt.show()"
   ]
  },
  {
   "cell_type": "code",
   "execution_count": null,
   "metadata": {},
   "outputs": [],
   "source": [
    "plt.scatter(SP_AB['PI'], SP_AB['SS'], color = 'Violet')\n",
    "plt.scatter(SP_NO['PI'], SP_NO['SS'], color = 'Orange')\n",
    "plt.title('Scatter Plot-3')\n",
    "plt.xlabel('Pelvic Incidence')\n",
    "plt.ylabel('Sacral Slope')\n",
    "plt.show()"
   ]
  },
  {
   "cell_type": "code",
   "execution_count": null,
   "metadata": {},
   "outputs": [],
   "source": [
    "plt.scatter(SP_AB['PI'], SP_AB['PR'], color = 'Grey')\n",
    "plt.scatter(SP_NO['PI'], SP_NO['PR'], color = 'Pink')\n",
    "plt.title('Scatter Plot-4')\n",
    "plt.xlabel('Pelvic Incidence')\n",
    "plt.ylabel('Pelvic Radius')\n",
    "plt.show()"
   ]
  },
  {
   "cell_type": "code",
   "execution_count": null,
   "metadata": {},
   "outputs": [],
   "source": [
    "plt.scatter(SP_AB['PI'], SP_AB['SG'], color = 'DarkBlue')\n",
    "plt.scatter(SP_NO['PI'], SP_NO['SG'], color = 'Maroon')\n",
    "plt.title('Scatter Plot-5')\n",
    "plt.xlabel('Pelvic Incidence')\n",
    "plt.ylabel('Grade of Spondylolisthesis')\n",
    "plt.show()"
   ]
  },
  {
   "cell_type": "code",
   "execution_count": null,
   "metadata": {},
   "outputs": [],
   "source": [
    "plt.scatter(SP_AB['PT'], SP_AB['LLA'], color = 'Green')\n",
    "plt.scatter(SP_NO['PT'], SP_NO['LLA'], color = 'Red')\n",
    "plt.title('Scatter Plot-6')\n",
    "plt.xlabel('Pelvic Tilt')\n",
    "plt.ylabel('Lumbar Lordosis Angle')\n",
    "plt.show()"
   ]
  },
  {
   "cell_type": "code",
   "execution_count": null,
   "metadata": {},
   "outputs": [],
   "source": [
    "plt.scatter(SP_AB['PT'], SP_AB['SS'], color = 'Brown')\n",
    "plt.scatter(SP_NO['PT'], SP_NO['SS'], color = 'Yellow')\n",
    "plt.title('Scatter Plot-7')\n",
    "plt.xlabel('Pelvic Tilt')\n",
    "plt.ylabel('Sacral Slope')\n",
    "plt.show()"
   ]
  },
  {
   "cell_type": "code",
   "execution_count": null,
   "metadata": {},
   "outputs": [],
   "source": [
    "plt.scatter(SP_AB['PT'], SP_AB['PR'], color = 'Violet')\n",
    "plt.scatter(SP_NO['PT'], SP_NO['PR'], color = 'Orange')\n",
    "plt.title('Scatter Plot-8')\n",
    "plt.xlabel('Pelvic Tilt')\n",
    "plt.ylabel('Pelvic Radius')\n",
    "plt.show()"
   ]
  },
  {
   "cell_type": "code",
   "execution_count": null,
   "metadata": {},
   "outputs": [],
   "source": [
    "plt.scatter(SP_AB['PT'], SP_AB['SG'], color = 'Grey')\n",
    "plt.scatter(SP_NO['PT'], SP_NO['SG'], color = 'Pink')\n",
    "plt.title('Scatter Plot-9')\n",
    "plt.xlabel('Pelvic Tilt')\n",
    "plt.ylabel('Grade of Spondylolisthesis')\n",
    "plt.show()"
   ]
  },
  {
   "cell_type": "code",
   "execution_count": null,
   "metadata": {},
   "outputs": [],
   "source": [
    "plt.scatter(SP_AB['LLA'], SP_AB['SS'], color = 'DarkBlue')\n",
    "plt.scatter(SP_NO['LLA'], SP_NO['SS'], color = 'Maroon')\n",
    "plt.title('Scatter Plot-10')\n",
    "plt.xlabel('Lumbar Lordosis Angle')\n",
    "plt.ylabel('Sacral Slope')\n",
    "plt.show()"
   ]
  },
  {
   "cell_type": "code",
   "execution_count": null,
   "metadata": {},
   "outputs": [],
   "source": [
    "plt.scatter(SP_AB['LLA'], SP_AB['PR'], color = 'Red')\n",
    "plt.scatter(SP_NO['LLA'], SP_NO['PR'], color = 'Green')\n",
    "plt.title('Scatter Plot-11')\n",
    "plt.xlabel('Lumbar Lordosis Angle')\n",
    "plt.ylabel('Pelvic Radius')\n",
    "plt.show()"
   ]
  },
  {
   "cell_type": "code",
   "execution_count": null,
   "metadata": {},
   "outputs": [],
   "source": [
    "plt.scatter(SP_AB['LLA'], SP_AB['SG'], color = 'Yellow')\n",
    "plt.scatter(SP_NO['LLA'], SP_NO['SG'], color = 'Brown')\n",
    "plt.title('Scatter Plot-12')\n",
    "plt.xlabel('Lumbar Lordosis Angle')\n",
    "plt.ylabel('Grade of Spondylolisthesis')\n",
    "plt.show()"
   ]
  },
  {
   "cell_type": "code",
   "execution_count": null,
   "metadata": {},
   "outputs": [],
   "source": [
    "plt.scatter(SP_AB['SS'], SP_AB['PR'], color = 'Orange')\n",
    "plt.scatter(SP_NO['SS'], SP_NO['PR'], color = 'Violet')\n",
    "plt.title('Scatter Plot-13')\n",
    "plt.xlabel('Sacral Slope')\n",
    "plt.ylabel('Pelvic Radius')\n",
    "plt.show()"
   ]
  },
  {
   "cell_type": "code",
   "execution_count": null,
   "metadata": {},
   "outputs": [],
   "source": [
    "plt.scatter(SP_AB['SS'], SP_AB['SG'], color = 'Pink')\n",
    "plt.scatter(SP_NO['SS'], SP_NO['SG'], color = 'Grey')\n",
    "plt.title('Scatter Plot-14')\n",
    "plt.xlabel('Sacral Slope')\n",
    "plt.ylabel('Grade of Spondylolisthesis')\n",
    "plt.show()"
   ]
  },
  {
   "cell_type": "code",
   "execution_count": null,
   "metadata": {},
   "outputs": [],
   "source": [
    "plt.scatter(SP_AB['PR'], SP_AB['SG'], color = 'Maroon')\n",
    "plt.scatter(SP_NO['PR'], SP_NO['SG'], color = 'DarkBlue')\n",
    "plt.title('Scatter Plot-15')\n",
    "plt.xlabel('Pelvic Radius')\n",
    "plt.ylabel('Grade of Spondylolisthesis')\n",
    "plt.show()"
   ]
  },
  {
   "cell_type": "markdown",
   "metadata": {},
   "source": [
    "Boxplots:"
   ]
  },
  {
   "cell_type": "code",
   "execution_count": null,
   "metadata": {},
   "outputs": [],
   "source": [
    "bp1 = sns.boxplot(y=data['PI'].astype(float), x=data['CL'].astype(str))\n",
    "bp1.set(xlabel='Classes', ylabel='Pelvic Incidence')\n",
    "plt.show()"
   ]
  },
  {
   "cell_type": "code",
   "execution_count": null,
   "metadata": {},
   "outputs": [],
   "source": [
    "bp2 = sns.boxplot(y=data['PT'].astype(float), x=data['CL'].astype(str))\n",
    "bp2.set(xlabel='Classes', ylabel='Pelvic Tilt')\n",
    "plt.show()"
   ]
  },
  {
   "cell_type": "code",
   "execution_count": null,
   "metadata": {},
   "outputs": [],
   "source": [
    "bp3 = sns.boxplot(y=data['LLA'].astype(float), x=data['CL'].astype(str))\n",
    "bp3.set(xlabel='Classes', ylabel='Lumbar Lordosis Angle')\n",
    "plt.show()"
   ]
  },
  {
   "cell_type": "code",
   "execution_count": null,
   "metadata": {},
   "outputs": [],
   "source": [
    "bp4 = sns.boxplot(y=data['SS'].astype(float), x=data['CL'].astype(str))\n",
    "bp4.set(xlabel='Classes', ylabel='Sacral Slope')\n",
    "plt.show()"
   ]
  },
  {
   "cell_type": "code",
   "execution_count": null,
   "metadata": {},
   "outputs": [],
   "source": [
    "bp5 = sns.boxplot(y=data['PR'].astype(float), x=data['CL'].astype(str))\n",
    "bp5.set(xlabel='Classes', ylabel='Pelvic Radius')\n",
    "plt.show()"
   ]
  },
  {
   "cell_type": "code",
   "execution_count": null,
   "metadata": {},
   "outputs": [],
   "source": [
    "bp6 = sns.boxplot(y=data['SG'].astype(float), x=data['CL'].astype(str))\n",
    "bp6.set(xlabel='Classes', ylabel='Grade of Spondylolisthesis')\n",
    "plt.show()"
   ]
  },
  {
   "cell_type": "markdown",
   "metadata": {},
   "source": [
    "Creating the Training data set & Test data set from AB & NO DataFrames:"
   ]
  },
  {
   "cell_type": "code",
   "execution_count": null,
   "metadata": {},
   "outputs": [],
   "source": [
    "Training_set = SP_AB.head(140)\n",
    "Training_set = Training_set.append(SP_NO.head(70))\n",
    "Test_set = SP_AB.tail(70)\n",
    "Test_set = Test_set.append(SP_NO.tail(30))"
   ]
  },
  {
   "cell_type": "markdown",
   "metadata": {},
   "source": [
    "Spitting the Training & Test data into X & Y , and normalizing the data:"
   ]
  },
  {
   "cell_type": "code",
   "execution_count": null,
   "metadata": {},
   "outputs": [],
   "source": [
    "X_Training = Training_set.iloc[:, :-1].values  \n",
    "y_Training = Training_set.iloc[:, 6].values \n",
    "X_Test = Test_set.iloc[:, :-1].values  \n",
    "y_Test = Test_set.iloc[:, 6].values \n",
    "\n",
    "scaler = StandardScaler()  \n",
    "scaler.fit(X_Training)\n",
    "X_Training = scaler.transform(X_Training)  \n",
    "X_Test = scaler.transform(X_Test) "
   ]
  },
  {
   "cell_type": "markdown",
   "metadata": {},
   "source": [
    "KNN using Euclidean metric:"
   ]
  },
  {
   "cell_type": "code",
   "execution_count": null,
   "metadata": {},
   "outputs": [],
   "source": [
    "error = []\n",
    "k_value = []\n",
    "for i in range(208, 0, -3):  \n",
    "    classifier = KNeighborsClassifier(n_neighbors=i, metric='euclidean')\n",
    "    classifier.fit(X_Training, y_Training)\n",
    "    y_pred = classifier.predict(X_Test)\n",
    "    error.append(np.mean(y_pred != y_Test))\n",
    "    k_value.append(i)\n",
    "ks = k_value[error.index(min(error))]"
   ]
  },
  {
   "cell_type": "markdown",
   "metadata": {},
   "source": [
    "Plotting the graph of K-Value vs Mean Error:"
   ]
  },
  {
   "cell_type": "code",
   "execution_count": null,
   "metadata": {},
   "outputs": [],
   "source": [
    "plt.figure(figsize=(20, 7))  \n",
    "plt.plot(range(208, 0, -3), error, color='maroon', linestyle='dashed', marker='*', markerfacecolor='yellow', markersize=10)\n",
    "plt.title('Error Rate K Value')  \n",
    "plt.xlabel('K Value')  \n",
    "plt.ylabel('Mean Error') "
   ]
  },
  {
   "cell_type": "markdown",
   "metadata": {},
   "source": [
    "Confusion Matrix, Precision, F1-score, True Positive Rate, True Negative Rate:"
   ]
  },
  {
   "cell_type": "code",
   "execution_count": null,
   "metadata": {},
   "outputs": [],
   "source": [
    "claf = KNeighborsClassifier(n_neighbors=ks, metric='euclidean')\n",
    "claf.fit(X_Training, y_Training)\n",
    "y_pred = claf.predict(X_Test)\n",
    "print(\"Confusion Matrix: \")  \n",
    "print(confusion_matrix(y_Test, y_pred))\n",
    "print(classification_report(y_Test, y_pred)) \n",
    "\n",
    "tn, fp, fn, tp = confusion_matrix(y_Test, y_pred).ravel()\n",
    "TPR = tp/(tp+fn)\n",
    "print('True positive rate: ', TPR)\n",
    "TNR = tn/(fp+tn)\n",
    "print('True negative rate: ', TNR)"
   ]
  },
  {
   "cell_type": "markdown",
   "metadata": {},
   "source": [
    "KNN using Euclidean metric by varying the size of Training set from 10 - 210:"
   ]
  },
  {
   "cell_type": "code",
   "execution_count": null,
   "metadata": {},
   "outputs": [],
   "source": [
    "new_error = []\n",
    "best_error = []\n",
    "for i in range(10,211,10):\n",
    "    Training_data = SP_NO.head(i//3)\n",
    "    Training_data = Training_data.append(SP_AB.head(i-(i//3)))\n",
    "    X_Training1 = Training_data.iloc[:, :-1].values  \n",
    "    y_Training1 = Training_data.iloc[:, 6].values \n",
    "    scaler.fit(X_Training1)\n",
    "    X_Training1 = scaler.transform(X_Training1) \n",
    "    for j in range(1,i,5):\n",
    "        classifier = KNeighborsClassifier(n_neighbors=j, metric='euclidean')\n",
    "        classifier.fit(X_Training1, y_Training1)\n",
    "        y_pred = classifier.predict(X_Test)\n",
    "        new_error.append(np.mean(y_pred != y_Test))\n",
    "    best_error.append(min(new_error))\n",
    "    new_error = []"
   ]
  },
  {
   "cell_type": "markdown",
   "metadata": {},
   "source": [
    "Plotting Learning Curve:"
   ]
  },
  {
   "cell_type": "code",
   "execution_count": null,
   "metadata": {},
   "outputs": [],
   "source": [
    "plt.figure(figsize=(20, 7))  \n",
    "plt.plot(range(10,211,10), best_error, color='gray', linestyle='dashed', marker='*', markerfacecolor='pink', markersize=10)\n",
    "plt.title('Learning Curve')  \n",
    "plt.xlabel('K Value')  \n",
    "plt.ylabel('Best Test Error Rate') "
   ]
  },
  {
   "cell_type": "markdown",
   "metadata": {},
   "source": [
    "Spitting the Training & Test data into X & Y , and normalizing the data:"
   ]
  },
  {
   "cell_type": "code",
   "execution_count": null,
   "metadata": {},
   "outputs": [],
   "source": [
    "X_Training2 = Training_set.iloc[:, :-1].values  \n",
    "y_Training2 = Training_set.iloc[:, 6].values \n",
    "X_Test2 = Test_set.iloc[:, :-1].values  \n",
    "y_Test2 = Test_set.iloc[:, 6].values \n",
    "\n",
    "scaler.fit(X_Training2)\n",
    "X_Training2 = scaler.transform(X_Training2)  \n",
    "X_Test2 = scaler.transform(X_Test2) "
   ]
  },
  {
   "cell_type": "markdown",
   "metadata": {},
   "source": [
    "KNN using Manhattan Distance using p = 1:"
   ]
  },
  {
   "cell_type": "code",
   "execution_count": null,
   "metadata": {},
   "outputs": [],
   "source": [
    "error2 = []\n",
    "best_k = []\n",
    "for k in range(1, 200, 5):  \n",
    "    classifier2 = KNeighborsClassifier(n_neighbors=k, metric='manhattan')\n",
    "    classifier2.fit(X_Training2, y_Training2)\n",
    "    y_pred2 = classifier2.predict(X_Test2)\n",
    "    error2.append(np.mean(y_pred2 != y_Test2))\n",
    "    best_k.append(k)\n",
    "k_star = best_k[error2.index(min(error2))]\n",
    "b_error = min(error2)"
   ]
  },
  {
   "cell_type": "markdown",
   "metadata": {},
   "source": [
    "KNN using Manhattan Distance using log10(p):"
   ]
  },
  {
   "cell_type": "code",
   "execution_count": null,
   "metadata": {},
   "outputs": [],
   "source": [
    "error3 = []\n",
    "for i in np.arange(0.1, 1.1, 0.1):\n",
    "    classifier3 = KNeighborsClassifier(n_neighbors=k_star, p=i, metric='manhattan')\n",
    "    classifier3.fit(X_Training2, y_Training2)\n",
    "    y_pred3 = classifier3.predict(X_Test2)\n",
    "    error3.append(np.mean(y_pred3 != y_Test2))"
   ]
  },
  {
   "cell_type": "markdown",
   "metadata": {},
   "source": [
    "KNN using Chebyshev Distance using p = infinity:"
   ]
  },
  {
   "cell_type": "code",
   "execution_count": null,
   "metadata": {},
   "outputs": [],
   "source": [
    "error4 = []\n",
    "for k in range(1, 200, 5):\n",
    "    classifier4 = KNeighborsClassifier(n_neighbors=k, p=math.inf, metric='chebyshev')\n",
    "    classifier4.fit(X_Training2, y_Training2)\n",
    "    y_pred4 = classifier4.predict(X_Test2)\n",
    "    error4.append(np.mean(y_pred4 != y_Test2))"
   ]
  },
  {
   "cell_type": "markdown",
   "metadata": {},
   "source": [
    "KNN using Mahalanobis Distance:"
   ]
  },
  {
   "cell_type": "code",
   "execution_count": null,
   "metadata": {},
   "outputs": [],
   "source": [
    "error5 = []\n",
    "for k in range(1, 200, 5):\n",
    "    classifier5 = KNeighborsClassifier(n_neighbors=k, metric='mahalanobis', metric_params={'V': np.cov(X_Training2)}, algorithm='brute')\n",
    "    classifier5.fit(X_Training2, y_Training2)\n",
    "    y_pred5 = classifier5.predict(X_Test2)\n",
    "    error5.append(np.mean(y_pred5 != y_Test2))"
   ]
  },
  {
   "cell_type": "markdown",
   "metadata": {},
   "source": [
    "KNN using Euclidean metric and weighted voting:"
   ]
  },
  {
   "cell_type": "code",
   "execution_count": null,
   "metadata": {},
   "outputs": [],
   "source": [
    "error6 = []\n",
    "k_value6 = []\n",
    "for i in range(1, 200, 5):  \n",
    "    classifier6 = KNeighborsClassifier(n_neighbors=i, weights='distance' ,metric='euclidean')\n",
    "    classifier6.fit(X_Training, y_Training)\n",
    "    y_pred6 = classifier6.predict(X_Test)\n",
    "    error6.append(np.mean(y_pred6 != y_Test))\n",
    "    k_value6.append(i)\n",
    "bte1 = min(error6)\n",
    "ks1 = k_value6[error6.index(min(error6))]"
   ]
  },
  {
   "cell_type": "markdown",
   "metadata": {},
   "source": [
    "KNN using Manhattan metric and weighted voting:"
   ]
  },
  {
   "cell_type": "code",
   "execution_count": null,
   "metadata": {},
   "outputs": [],
   "source": [
    "error7 = []\n",
    "k_value7 = []\n",
    "for k in range(1, 200, 5):  \n",
    "    classifier7 = KNeighborsClassifier(n_neighbors=k, weights='distance' ,metric='manhattan')\n",
    "    classifier7.fit(X_Training2, y_Training2)\n",
    "    y_pred7 = classifier7.predict(X_Test2)\n",
    "    error7.append(np.mean(y_pred7 != y_Test2))\n",
    "    k_value7.append(k)\n",
    "bte2 = min(error7)\n",
    "ks2 = k_value7[error7.index(min(error7))]"
   ]
  },
  {
   "cell_type": "markdown",
   "metadata": {},
   "source": [
    "KNN using Chebyshev metric and weighted voting:"
   ]
  },
  {
   "cell_type": "code",
   "execution_count": null,
   "metadata": {},
   "outputs": [],
   "source": [
    "error8 = []\n",
    "k_value8 = []\n",
    "for k in range(1, 200, 5):\n",
    "    classifier8 = KNeighborsClassifier(n_neighbors=k, weights='distance' ,p=math.inf, metric='chebyshev')\n",
    "    classifier8.fit(X_Training2, y_Training2)\n",
    "    y_pred8 = classifier8.predict(X_Test2)\n",
    "    error8.append(np.mean(y_pred8 != y_Test2))\n",
    "    k_value8.append(k)\n",
    "bte3 = min(error8)\n",
    "ks3 = k_value8[error8.index(min(error8))]    "
   ]
  },
  {
   "cell_type": "code",
   "execution_count": null,
   "metadata": {},
   "outputs": [],
   "source": []
  }
 ],
 "metadata": {
  "kernelspec": {
   "display_name": "Python 3",
   "language": "python",
   "name": "python3"
  },
  "language_info": {
   "codemirror_mode": {
    "name": "ipython",
    "version": 3
   },
   "file_extension": ".py",
   "mimetype": "text/x-python",
   "name": "python",
   "nbconvert_exporter": "python",
   "pygments_lexer": "ipython3",
   "version": "3.7.1"
  }
 },
 "nbformat": 4,
 "nbformat_minor": 2
}
