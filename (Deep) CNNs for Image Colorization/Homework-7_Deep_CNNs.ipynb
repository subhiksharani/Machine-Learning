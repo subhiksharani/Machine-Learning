{
 "cells": [
  {
   "cell_type": "markdown",
   "metadata": {
    "colab": {},
    "colab_type": "code",
    "id": "RDfTtq-z93MB"
   },
   "source": [
    "## USC ID: 9907399097 Name: Subhiksha Rani"
   ]
  },
  {
   "cell_type": "code",
   "execution_count": null,
   "metadata": {
    "colab": {},
    "colab_type": "code",
    "id": "zVvCrROryXBo"
   },
   "outputs": [],
   "source": [
    "import pandas as pd\n",
    "import numpy as np\n",
    "import tensorflow as tf\n",
    "import pickle\n",
    "from sklearn.cluster import KMeans\n",
    "import matplotlib.pyplot as plt\n",
    "from sklearn.model_selection import train_test_split\n",
    "from skimage.color import rgb2grey\n",
    "from keras.utils import to_categorical\n",
    "from keras.models import Sequential\n",
    "from keras.layers import Dense, Conv2D, Flatten, MaxPool2D"
   ]
  },
  {
   "cell_type": "markdown",
   "metadata": {
    "colab": {
     "base_uri": "https://localhost:8080/",
     "height": 132
    },
    "colab_type": "code",
    "id": "I_mV1jc393MH",
    "outputId": "c15de09b-5a77-4c4f-c824-478fcbb437ae"
   },
   "source": [
    "__2. (Deep) CNNs for Image Colorization__"
   ]
  },
  {
   "cell_type": "markdown",
   "metadata": {
    "colab": {},
    "colab_type": "code",
    "id": "UIfg2zcX93MK"
   },
   "source": [
    "__(b) From the train and test dataset, extract the class birds.__"
   ]
  },
  {
   "cell_type": "code",
   "execution_count": null,
   "metadata": {
    "colab": {},
    "colab_type": "code",
    "id": "n4r1chv593MN"
   },
   "outputs": [],
   "source": [
    "files = ['data_batch_1','data_batch_2','data_batch_3','data_batch_4','data_batch_5','test_batch']\n",
    "data = []\n",
    "for item in files:\n",
    "    with open(item, 'rb') as fo:\n",
    "        dict_ = pickle.load(fo, encoding='bytes')\n",
    "    features = dict_[b'data'].reshape((len(dict_[b'data']), 3, 32, 32)).transpose(0, 2, 3, 1)\n",
    "    labels = dict_[b'labels']\n",
    "    unpickle = (features,labels)\n",
    "    for i in range(len(unpickle[0])):\n",
    "        if unpickle[1][i] == 2:\n",
    "            data.append(unpickle[0][i])"
   ]
  },
  {
   "cell_type": "code",
   "execution_count": 11,
   "metadata": {
    "colab": {
     "base_uri": "https://localhost:8080/",
     "height": 35
    },
    "colab_type": "code",
    "id": "uA3jAH7993MP",
    "outputId": "f7332c5f-1e06-41e8-8341-f896bd44a6e2"
   },
   "outputs": [
    {
     "data": {
      "text/plain": [
       "(6000, 32, 32, 3)"
      ]
     },
     "execution_count": 11,
     "metadata": {
      "tags": []
     },
     "output_type": "execute_result"
    }
   ],
   "source": [
    "np.array(data).shape"
   ]
  },
  {
   "cell_type": "code",
   "execution_count": 12,
   "metadata": {
    "colab": {
     "base_uri": "https://localhost:8080/",
     "height": 287
    },
    "colab_type": "code",
    "id": "efw-9JRV93MT",
    "outputId": "66b2c032-e92c-45b7-e838-d349cc4224db"
   },
   "outputs": [
    {
     "data": {
      "text/plain": [
       "<matplotlib.image.AxesImage at 0x7f5b36664c88>"
      ]
     },
     "execution_count": 12,
     "metadata": {
      "tags": []
     },
     "output_type": "execute_result"
    },
    {
     "data": {
      "image/png": "[encoded data removed]",
      "text/plain": [
       "<Figure size 432x288 with 1 Axes>"
      ]
     },
     "metadata": {
      "tags": []
     },
     "output_type": "display_data"
    }
   ],
   "source": [
    "plt.imshow(data[0])"
   ]
  },
  {
   "cell_type": "markdown",
   "metadata": {
    "colab": {},
    "colab_type": "code",
    "id": "bO8MwBv893MZ"
   },
   "source": [
    "__(c) Selection of pixels__"
   ]
  },
  {
   "cell_type": "code",
   "execution_count": 13,
   "metadata": {
    "colab": {
     "base_uri": "https://localhost:8080/",
     "height": 140
    },
    "colab_type": "code",
    "id": "6WVt0GAtyXB_",
    "outputId": "3ead10a0-84f3-4fa6-bdb6-0c57fc986a42"
   },
   "outputs": [
    {
     "name": "stdout",
     "output_type": "stream",
     "text": [
      "[[164 206  84]\n",
      " [105 140  61]\n",
      " [118 148 101]\n",
      " ...\n",
      " [156 179  95]\n",
      " [158 180  98]\n",
      " [157 179  98]]\n"
     ]
    }
   ],
   "source": [
    "pixel_list = np.reshape(data, (6144000, 3))\n",
    "print(pixel_list)"
   ]
  },
  {
   "cell_type": "markdown",
   "metadata": {
    "colab_type": "text",
    "id": "F1SsPgFoyXCB"
   },
   "source": [
    "__(d) k-means clustering on the P vectors using k = 4__"
   ]
  },
  {
   "cell_type": "code",
   "execution_count": 14,
   "metadata": {
    "colab": {
     "base_uri": "https://localhost:8080/",
     "height": 70
    },
    "colab_type": "code",
    "id": "6hDwZs_u93Me",
    "outputId": "ac687101-96c6-4375-c37a-7f10ffd1bc99"
   },
   "outputs": [
    {
     "data": {
      "text/plain": [
       "KMeans(algorithm='auto', copy_x=True, init='k-means++', max_iter=300,\n",
       "    n_clusters=4, n_init=10, n_jobs=None, precompute_distances='auto',\n",
       "    random_state=None, tol=0.0001, verbose=0)"
      ]
     },
     "execution_count": 14,
     "metadata": {
      "tags": []
     },
     "output_type": "execute_result"
    }
   ],
   "source": [
    "kmeans = KMeans(n_clusters=4)\n",
    "kmeans.fit(pixel_list)"
   ]
  },
  {
   "cell_type": "code",
   "execution_count": 15,
   "metadata": {
    "colab": {
     "base_uri": "https://localhost:8080/",
     "height": 87
    },
    "colab_type": "code",
    "id": "iRhTItiXHD5e",
    "outputId": "47f49a9b-f11b-46e8-c211-460e63563dce"
   },
   "outputs": [
    {
     "data": {
      "text/plain": [
       "array([[156.28320314, 155.63277578, 135.73957785],\n",
       "       [108.81658416, 108.46800139,  82.58454891],\n",
       "       [206.79393787, 212.02874332, 211.67152158],\n",
       "       [ 48.81967438,  49.80133893,  38.40303001]])"
      ]
     },
     "execution_count": 15,
     "metadata": {
      "tags": []
     },
     "output_type": "execute_result"
    }
   ],
   "source": [
    "kmeans.cluster_centers_"
   ]
  },
  {
   "cell_type": "code",
   "execution_count": null,
   "metadata": {
    "colab": {},
    "colab_type": "code",
    "id": "MhF9rSKq93Mg"
   },
   "outputs": [],
   "source": [
    "lab = kmeans.predict(pixel_list)"
   ]
  },
  {
   "cell_type": "markdown",
   "metadata": {
    "colab_type": "text",
    "id": "rUUwbUbUyXCL"
   },
   "source": [
    "__(e) Original to Grayscale__"
   ]
  },
  {
   "cell_type": "code",
   "execution_count": null,
   "metadata": {
    "colab": {},
    "colab_type": "code",
    "id": "CVavKeeA93Ml"
   },
   "outputs": [],
   "source": [
    "npl = []\n",
    "Y = []\n",
    "for ppp in range(len(pixel_list)):\n",
    "    npl.append([int(op) for op in kmeans.cluster_centers_[lab[ppp]]])\n",
    "    if lab[ppp] == 0:\n",
    "        Y.append([1, 0, 0, 0])\n",
    "    elif lab[ppp] == 1:\n",
    "        Y.append([0, 1, 0, 0])\n",
    "    elif lab[ppp] == 2:\n",
    "        Y.append([0, 0, 1, 0])\n",
    "    elif lab[ppp] == 3:\n",
    "        Y.append([0, 0, 0, 1])"
   ]
  },
  {
   "cell_type": "code",
   "execution_count": 18,
   "metadata": {
    "colab": {
     "base_uri": "https://localhost:8080/",
     "height": 52
    },
    "colab_type": "code",
    "id": "62Qrgvph93Mo",
    "outputId": "dce53b6d-1a8e-41ff-dd6e-9a94ffa81b80"
   },
   "outputs": [
    {
     "name": "stdout",
     "output_type": "stream",
     "text": [
      "Shape of npl:  (6144000, 3)\n",
      "Shape of Y:  (6144000, 4)\n"
     ]
    }
   ],
   "source": [
    "print(\"Shape of npl: \",np.shape(npl))\n",
    "print(\"Shape of Y: \",np.shape(Y))"
   ]
  },
  {
   "cell_type": "code",
   "execution_count": null,
   "metadata": {
    "colab": {},
    "colab_type": "code",
    "id": "UcBvS7fG93Mp"
   },
   "outputs": [],
   "source": [
    "npl = np.reshape(npl, (6000, 32, 32, 3))\n",
    "Y = np.reshape(Y, (6000, 32, 32, 4))"
   ]
  },
  {
   "cell_type": "code",
   "execution_count": null,
   "metadata": {
    "colab": {},
    "colab_type": "code",
    "id": "uzXvHJPN93My"
   },
   "outputs": [],
   "source": [
    "X = []\n",
    "pixel_list = np.reshape(pixel_list, (6000, 32, 32, 3))\n",
    "for i in range(len(pixel_list)):\n",
    "    X.append(rgb2grey(pixel_list[i]).tolist())"
   ]
  },
  {
   "cell_type": "code",
   "execution_count": null,
   "metadata": {
    "colab": {},
    "colab_type": "code",
    "id": "iaWQWLpI93M0"
   },
   "outputs": [],
   "source": [
    "X = np.reshape(X, (6000, 32, 32, 1))"
   ]
  },
  {
   "cell_type": "markdown",
   "metadata": {
    "colab_type": "text",
    "id": "pHeYaqruyXCb"
   },
   "source": [
    "__(f) Deep Convolutional Neural Network.__"
   ]
  },
  {
   "cell_type": "code",
   "execution_count": null,
   "metadata": {
    "colab": {},
    "colab_type": "code",
    "id": "ipjxe6pbH5T4"
   },
   "outputs": [],
   "source": [
    "model = Sequential()\n",
    "model.add(Conv2D(64, kernel_size = (5,5), strides=(1, 1), padding='same', input_shape = (32,32,1)))\n",
    "model.add(MaxPool2D(pool_size=(2, 2), strides=(1, 1), padding='same'))\n",
    "model.add(Conv2D(64, kernel_size = (5,5), strides=(1, 1), padding='same'))\n",
    "model.add(MaxPool2D(pool_size=(2, 2), strides=(1, 1), padding='same'))\n",
    "model.add(Dense(32, activation='softmax'))\n",
    "model.add(Dense(4, activation='softmax'))"
   ]
  },
  {
   "cell_type": "code",
   "execution_count": 24,
   "metadata": {
    "colab": {
     "base_uri": "https://localhost:8080/",
     "height": 351
    },
    "colab_type": "code",
    "id": "0Uqacw3bIbQY",
    "outputId": "1459ba62-6ae4-4392-9e5f-ac776174a64e"
   },
   "outputs": [
    {
     "name": "stdout",
     "output_type": "stream",
     "text": [
      "_________________________________________________________________\n",
      "Layer (type)                 Output Shape              Param #   \n",
      "=================================================================\n",
      "conv2d_3 (Conv2D)            (None, 32, 32, 64)        1664      \n",
      "_________________________________________________________________\n",
      "max_pooling2d_3 (MaxPooling2 (None, 32, 32, 64)        0         \n",
      "_________________________________________________________________\n",
      "conv2d_4 (Conv2D)            (None, 32, 32, 64)        102464    \n",
      "_________________________________________________________________\n",
      "max_pooling2d_4 (MaxPooling2 (None, 32, 32, 64)        0         \n",
      "_________________________________________________________________\n",
      "dense_3 (Dense)              (None, 32, 32, 32)        2080      \n",
      "_________________________________________________________________\n",
      "dense_4 (Dense)              (None, 32, 32, 4)         132       \n",
      "=================================================================\n",
      "Total params: 106,340\n",
      "Trainable params: 106,340\n",
      "Non-trainable params: 0\n",
      "_________________________________________________________________\n"
     ]
    }
   ],
   "source": [
    "model.summary()"
   ]
  },
  {
   "cell_type": "code",
   "execution_count": null,
   "metadata": {
    "colab": {},
    "colab_type": "code",
    "id": "UDDEvjg0Wqlm"
   },
   "outputs": [],
   "source": [
    "model.compile(optimizer='adam', loss='categorical_crossentropy', metrics=['accuracy'])"
   ]
  },
  {
   "cell_type": "code",
   "execution_count": null,
   "metadata": {
    "colab": {},
    "colab_type": "code",
    "id": "44keuiKAWq6H"
   },
   "outputs": [],
   "source": [
    "X_train, X_test, y_train, y_test = train_test_split(X, Y, test_size=0.1, random_state=10)"
   ]
  },
  {
   "cell_type": "code",
   "execution_count": 27,
   "metadata": {
    "colab": {
     "base_uri": "https://localhost:8080/",
     "height": 35
    },
    "colab_type": "code",
    "id": "kPeETws7j3_s",
    "outputId": "474e2ce6-8e75-4e74-d9ea-2fec9934a8ca"
   },
   "outputs": [
    {
     "data": {
      "text/plain": [
       "(6000, 32, 32, 4)"
      ]
     },
     "execution_count": 27,
     "metadata": {
      "tags": []
     },
     "output_type": "execute_result"
    }
   ],
   "source": [
    "Y.shape"
   ]
  },
  {
   "cell_type": "code",
   "execution_count": 29,
   "metadata": {
    "colab": {
     "base_uri": "https://localhost:8080/",
     "height": 739
    },
    "colab_type": "code",
    "id": "zwn9VLw9W5bb",
    "outputId": "58d7c5f4-d6a7-4457-a8d0-151b2ed983cb"
   },
   "outputs": [
    {
     "name": "stdout",
     "output_type": "stream",
     "text": [
      "Train on 5400 samples, validate on 600 samples\n",
      "Epoch 1/20\n",
      " - 2s - loss: 0.8433 - acc: 0.7128 - val_loss: 0.8026 - val_acc: 0.7208\n",
      "Epoch 2/20\n",
      " - 2s - loss: 0.7774 - acc: 0.7242 - val_loss: 0.7565 - val_acc: 0.7165\n",
      "Epoch 3/20\n",
      " - 2s - loss: 0.7259 - acc: 0.7322 - val_loss: 0.7038 - val_acc: 0.7364\n",
      "Epoch 4/20\n",
      " - 2s - loss: 0.6895 - acc: 0.7356 - val_loss: 0.6700 - val_acc: 0.7340\n",
      "Epoch 5/20\n",
      " - 2s - loss: 0.6563 - acc: 0.7404 - val_loss: 0.6412 - val_acc: 0.7450\n",
      "Epoch 6/20\n",
      " - 2s - loss: 0.6358 - acc: 0.7408 - val_loss: 0.6166 - val_acc: 0.7448\n",
      "Epoch 7/20\n",
      " - 2s - loss: 0.6150 - acc: 0.7421 - val_loss: 0.6206 - val_acc: 0.7218\n",
      "Epoch 8/20\n",
      " - 2s - loss: 0.5951 - acc: 0.7451 - val_loss: 0.5807 - val_acc: 0.7479\n",
      "Epoch 9/20\n",
      " - 2s - loss: 0.5750 - acc: 0.7489 - val_loss: 0.6060 - val_acc: 0.7083\n",
      "Epoch 10/20\n",
      " - 2s - loss: 0.5649 - acc: 0.7468 - val_loss: 0.5714 - val_acc: 0.7258\n",
      "Epoch 11/20\n",
      " - 2s - loss: 0.5519 - acc: 0.7477 - val_loss: 0.5429 - val_acc: 0.7456\n",
      "Epoch 12/20\n",
      " - 2s - loss: 0.5386 - acc: 0.7488 - val_loss: 0.5317 - val_acc: 0.7519\n",
      "Epoch 13/20\n",
      " - 2s - loss: 0.5274 - acc: 0.7488 - val_loss: 0.5197 - val_acc: 0.7518\n",
      "Epoch 14/20\n",
      " - 2s - loss: 0.5163 - acc: 0.7491 - val_loss: 0.5115 - val_acc: 0.7513\n",
      "Epoch 15/20\n",
      " - 2s - loss: 0.5072 - acc: 0.7485 - val_loss: 0.4973 - val_acc: 0.7493\n",
      "Epoch 16/20\n",
      " - 2s - loss: 0.4940 - acc: 0.7499 - val_loss: 0.4893 - val_acc: 0.7551\n",
      "Epoch 17/20\n",
      " - 2s - loss: 0.4870 - acc: 0.7485 - val_loss: 0.4854 - val_acc: 0.7573\n",
      "Epoch 18/20\n",
      " - 2s - loss: 0.4814 - acc: 0.8098 - val_loss: 0.4805 - val_acc: 0.8496\n",
      "Epoch 19/20\n",
      " - 2s - loss: 0.4669 - acc: 0.8575 - val_loss: 0.4659 - val_acc: 0.8668\n",
      "Epoch 20/20\n",
      " - 2s - loss: 0.4611 - acc: 0.8587 - val_loss: 0.4594 - val_acc: 0.8469\n"
     ]
    }
   ],
   "source": [
    "network = model.fit(X_train, y_train, validation_data=(X_test, y_test), epochs=20, verbose=2)"
   ]
  },
  {
   "cell_type": "code",
   "execution_count": null,
   "metadata": {
    "colab": {},
    "colab_type": "code",
    "id": "_SQO1HwyW5uG"
   },
   "outputs": [],
   "source": [
    "y_pred = model.predict(X_test)\n",
    "y_pred = y_pred.reshape(614400, 4)\n",
    "output_images = []\n",
    "for p in range(len(y_pred)):\n",
    "    output_images.append([int(op) for op in kmeans.cluster_centers_[np.argmax(y_pred[p])]])\n",
    "y_test_reshaped = y_test.reshape(614400, 4)\n",
    "y_test_k_color = []\n",
    "for p in range(len(y_test_reshaped)):\n",
    "    y_test_k_color.append([int(op) for op in kmeans.cluster_centers_[np.argmax(y_test_reshaped[p])]])\n",
    "output_images = np.reshape(output_images, (600, 32, 32, 3))\n",
    "y_test_k_color = np.reshape(y_test_k_color, (600, 32, 32, 3))"
   ]
  },
  {
   "cell_type": "code",
   "execution_count": 31,
   "metadata": {
    "colab": {
     "base_uri": "https://localhost:8080/",
     "height": 1700
    },
    "colab_type": "code",
    "id": "OUszun9VYen-",
    "outputId": "c8296bc5-99b2-411f-daf2-3b283140bc79"
   },
   "outputs": [
    {
     "name": "stdout",
     "output_type": "stream",
     "text": [
      "Comparing the artificially colored versions of the first 10 images in the test set with the original images:\n"
     ]
    },
    {
     "data": {
      "image/png": "[encoded data removed]",
      "text/plain": [
       "<Figure size 720x2160 with 20 Axes>"
      ]
     },
     "metadata": {
      "tags": []
     },
     "output_type": "display_data"
    }
   ],
   "source": [
    "print(\"Comparing the artificially colored versions of the first 10 images in the test set with the original images:\")\n",
    "plt.figure(figsize=(10, 30))\n",
    "subplotcount = 1\n",
    "for i in range(0,10):\n",
    "    plt.subplot(10, 2, subplotcount)\n",
    "    subplotcount+=1\n",
    "    plt.imshow(y_test_k_color[i])\n",
    "    plt.subplot(10, 2, subplotcount)\n",
    "    subplotcount+=1\n",
    "    plt.imshow(output_images[i])\n",
    "    plt.axis('off')\n",
    "plt.show()"
   ]
  },
  {
   "cell_type": "code",
   "execution_count": 32,
   "metadata": {
    "colab": {
     "base_uri": "https://localhost:8080/",
     "height": 299
    },
    "colab_type": "code",
    "id": "HVLZtt6_YwcT",
    "outputId": "abc75226-458e-4282-e80d-76f55928c96c"
   },
   "outputs": [
    {
     "data": {
      "text/plain": [
       "<matplotlib.legend.Legend at 0x7f5b270fd668>"
      ]
     },
     "execution_count": 32,
     "metadata": {
      "tags": []
     },
     "output_type": "execute_result"
    },
    {
     "data": {
      "image/png": "[encoded data removed]",
      "text/plain": [
       "<Figure size 432x288 with 1 Axes>"
      ]
     },
     "metadata": {
      "tags": []
     },
     "output_type": "display_data"
    }
   ],
   "source": [
    "no_of_epochs = [int(i) for i in range(1, 21)]\n",
    "plt.plot(no_of_epochs, network.history['loss'], marker = \"x\", color=\"r\", label = \"Testing Error\")\n",
    "plt.plot(no_of_epochs, network.history['val_loss'], marker = \"x\", color = \"g\", label = \"Training Error\")\n",
    "plt.title(\"Plotting training and test errors in each epoch\")\n",
    "plt.legend()"
   ]
  }
 ],
 "metadata": {
  "accelerator": "GPU",
  "colab": {
   "collapsed_sections": [],
   "name": "Homework-7_Deep_CNNs.ipynb",
   "provenance": [],
   "version": "0.3.2"
  },
  "kernelspec": {
   "display_name": "Python 3",
   "language": "python",
   "name": "python3"
  },
  "language_info": {
   "codemirror_mode": {
    "name": "ipython",
    "version": 3
   },
   "file_extension": ".py",
   "mimetype": "text/x-python",
   "name": "python",
   "nbconvert_exporter": "python",
   "pygments_lexer": "ipython3",
   "version": "3.7.1"
  }
 },
 "nbformat": 4,
 "nbformat_minor": 2
}
