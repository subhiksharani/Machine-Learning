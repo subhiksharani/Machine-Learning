{
 "cells": [
  {
   "cell_type": "markdown",
   "metadata": {},
   "source": [
    "__USC ID: 9907399097  ; \n",
    "Name: Subhiksha Rani__"
   ]
  },
  {
   "cell_type": "code",
   "execution_count": 1,
   "metadata": {},
   "outputs": [],
   "source": [
    "import pandas as pd\n",
    "from sklearn.model_selection import train_test_split, GridSearchCV\n",
    "from sklearn.svm import SVC, LinearSVC\n",
    "from sklearn.metrics import hamming_loss, accuracy_score, silhouette_samples, silhouette_score\n",
    "from sklearn.preprocessing import StandardScaler\n",
    "from imblearn.over_sampling import SMOTE\n",
    "from sklearn.cluster import KMeans\n",
    "from collections import Counter\n",
    "from scipy.spatial import distance"
   ]
  },
  {
   "cell_type": "markdown",
   "metadata": {},
   "source": [
    "<br>__1. (a) Downloading the dataset & splitting the 70% data as training set & 30% data as test set.__"
   ]
  },
  {
   "cell_type": "code",
   "execution_count": 2,
   "metadata": {},
   "outputs": [],
   "source": [
    "data = pd.read_csv(\"Frogs_MFCCs.csv\")\n",
    "training_data, test_data = train_test_split(data,test_size=0.30,random_state=42)\n"
   ]
  },
  {
   "cell_type": "markdown",
   "metadata": {},
   "source": [
    "<br>__(b) i. Exact match and hamming score/ loss methods for evaluating multi-label classification.__"
   ]
  },
  {
   "cell_type": "markdown",
   "metadata": {},
   "source": [
    "<br>__ii. Train a SVM for each of the labels, using Gaussian kernels and one versus all classifiers.__"
   ]
  },
  {
   "cell_type": "markdown",
   "metadata": {},
   "source": [
    "__Finding best C & Gamma using cross-validation for Family label with raw attributes.__"
   ]
  },
  {
   "cell_type": "code",
   "execution_count": 3,
   "metadata": {},
   "outputs": [
    {
     "name": "stdout",
     "output_type": "stream",
     "text": [
      "Best C: 100\n",
      "Best Gamma: 1\n"
     ]
    }
   ],
   "source": [
    "params = {'C': [1, 10, 100, 1000], 'gamma': [0.001, 0.01, 0.1, 1], 'kernel': ['rbf']}\n",
    "clf = GridSearchCV(cv=10, estimator=SVC(), param_grid=params, n_jobs=-1)\n",
    "clf.fit(training_data.iloc[:,0:22], training_data.iloc[:,22:23].values.ravel())   \n",
    "print('Best C:',clf.best_estimator_.C)\n",
    "print('Best Gamma:',clf.best_estimator_.gamma)"
   ]
  },
  {
   "cell_type": "markdown",
   "metadata": {},
   "source": [
    "__Finding the Hamming Loss & Exact match ratio for Family label with raw attributes.__"
   ]
  },
  {
   "cell_type": "code",
   "execution_count": 4,
   "metadata": {},
   "outputs": [
    {
     "name": "stdout",
     "output_type": "stream",
     "text": [
      "Hamming Loss:  0.006484483557202408\n",
      "Exact Match ratio:  0.9935155164427976\n"
     ]
    }
   ],
   "source": [
    "clf1 = SVC(kernel=\"rbf\", gamma=1, C=100)\n",
    "clf1.fit(training_data.iloc[:,0:22], training_data.iloc[:,22:23].values.ravel())\n",
    "y_pred1 = clf1.predict(test_data.iloc[:,0:22])\n",
    "print(\"Hamming Loss: \", hamming_loss(test_data.iloc[:,22:23].values.ravel(), y_pred1))\n",
    "print(\"Exact Match ratio: \", accuracy_score(test_data.iloc[:,22:23].values.ravel(), y_pred1))"
   ]
  },
  {
   "cell_type": "markdown",
   "metadata": {},
   "source": [
    "__Finding best C & Gamma using cross-validation for Genus label with raw attributes.__"
   ]
  },
  {
   "cell_type": "code",
   "execution_count": 5,
   "metadata": {},
   "outputs": [
    {
     "name": "stdout",
     "output_type": "stream",
     "text": [
      "Best C: 100\n",
      "Best Gamma: 1\n"
     ]
    }
   ],
   "source": [
    "clf2 = GridSearchCV(cv=10, estimator=SVC(), param_grid=params, n_jobs=-1)\n",
    "clf2.fit(training_data.iloc[:,0:22], training_data.iloc[:,23:24].values.ravel())   \n",
    "print('Best C:',clf2.best_estimator_.C)\n",
    "print('Best Gamma:',clf2.best_estimator_.gamma)"
   ]
  },
  {
   "cell_type": "markdown",
   "metadata": {},
   "source": [
    "__Finding the Hamming Loss & Exact match ratio for Genus label with raw attributes.__"
   ]
  },
  {
   "cell_type": "code",
   "execution_count": 6,
   "metadata": {},
   "outputs": [
    {
     "name": "stdout",
     "output_type": "stream",
     "text": [
      "Hamming Loss:  0.007874015748031496\n",
      "Exact Match ratio:  0.9921259842519685\n"
     ]
    }
   ],
   "source": [
    "clf3 = SVC(kernel=\"rbf\", gamma=1, C=100)\n",
    "clf3.fit(training_data.iloc[:,0:22], training_data.iloc[:,23:24].values.ravel())\n",
    "y_pred2 = clf3.predict(test_data.iloc[:,0:22])\n",
    "print(\"Hamming Loss: \", hamming_loss(test_data.iloc[:,23:24].values.ravel(), y_pred2))\n",
    "print(\"Exact Match ratio: \", accuracy_score(test_data.iloc[:,23:24].values.ravel(), y_pred2))"
   ]
  },
  {
   "cell_type": "markdown",
   "metadata": {},
   "source": [
    "__Finding best C & Gamma using cross-validation for Species label with raw attributes.__"
   ]
  },
  {
   "cell_type": "code",
   "execution_count": 7,
   "metadata": {},
   "outputs": [
    {
     "name": "stdout",
     "output_type": "stream",
     "text": [
      "Best C: 10\n",
      "Best Gamma: 1\n"
     ]
    }
   ],
   "source": [
    "clf4 = GridSearchCV(cv=10, estimator=SVC(), param_grid=params, n_jobs=-1)\n",
    "clf4.fit(training_data.iloc[:,0:22], training_data.iloc[:,24:25].values.ravel())   \n",
    "print('Best C:',clf4.best_estimator_.C)\n",
    "print('Best Gamma:',clf4.best_estimator_.gamma)"
   ]
  },
  {
   "cell_type": "markdown",
   "metadata": {},
   "source": [
    "__Finding the Hamming Loss & Exact match ratio for Species label with raw attributes.__"
   ]
  },
  {
   "cell_type": "code",
   "execution_count": 8,
   "metadata": {},
   "outputs": [
    {
     "name": "stdout",
     "output_type": "stream",
     "text": [
      "Hamming Loss:  0.010653080129689671\n",
      "Exact Match ratio:  0.9893469198703103\n"
     ]
    }
   ],
   "source": [
    "clf5 = SVC(kernel=\"rbf\", gamma=1, C=10)\n",
    "clf5.fit(training_data.iloc[:,0:22], training_data.iloc[:,24:25].values.ravel())\n",
    "y_pred3 = clf5.predict(test_data.iloc[:,0:22])\n",
    "print(\"Hamming Loss: \", hamming_loss(test_data.iloc[:,24:25].values.ravel(), y_pred3))\n",
    "print(\"Exact Match ratio: \", accuracy_score(test_data.iloc[:,24:25].values.ravel(), y_pred3))"
   ]
  },
  {
   "cell_type": "markdown",
   "metadata": {},
   "source": [
    "__Standardizing the features.__"
   ]
  },
  {
   "cell_type": "code",
   "execution_count": 9,
   "metadata": {},
   "outputs": [],
   "source": [
    "scaler = StandardScaler() \n",
    "scaler.fit(training_data.iloc[:,0:22])\n",
    "X_train_std = scaler.transform(training_data.iloc[:,0:22])  \n",
    "X_test_std = scaler.transform(test_data.iloc[:,0:22])"
   ]
  },
  {
   "cell_type": "markdown",
   "metadata": {},
   "source": [
    "__Finding best C & Gamma using cross-validation for Family label with standardized attributes.__"
   ]
  },
  {
   "cell_type": "code",
   "execution_count": 10,
   "metadata": {},
   "outputs": [
    {
     "name": "stdout",
     "output_type": "stream",
     "text": [
      "Best C: 10\n",
      "Best Gamma: 0.1\n"
     ]
    }
   ],
   "source": [
    "clf6 = GridSearchCV(cv=10, estimator=SVC(), param_grid=params, n_jobs=-1)\n",
    "clf6.fit(X_train_std, training_data.iloc[:,22:23].values.ravel())   \n",
    "print('Best C:',clf6.best_estimator_.C)\n",
    "print('Best Gamma:',clf6.best_estimator_.gamma)"
   ]
  },
  {
   "cell_type": "markdown",
   "metadata": {},
   "source": [
    "__Finding the Hamming Loss & Exact match ratio for Family label with standardized attributes.__"
   ]
  },
  {
   "cell_type": "code",
   "execution_count": 11,
   "metadata": {},
   "outputs": [
    {
     "name": "stdout",
     "output_type": "stream",
     "text": [
      "Hamming Loss:  0.007410838351088467\n",
      "Exact Match ratio:  0.9925891616489115\n"
     ]
    }
   ],
   "source": [
    "clf7 = SVC(kernel=\"rbf\", gamma=0.1, C=10)\n",
    "clf7.fit(X_train_std, training_data.iloc[:,22:23].values.ravel())\n",
    "y_pred4 = clf7.predict(X_test_std)\n",
    "print(\"Hamming Loss: \", hamming_loss(test_data.iloc[:,22:23].values.ravel(), y_pred4))\n",
    "print(\"Exact Match ratio: \", accuracy_score(test_data.iloc[:,22:23].values.ravel(), y_pred4))"
   ]
  },
  {
   "cell_type": "markdown",
   "metadata": {},
   "source": [
    "__Finding best C & Gamma using cross-validation for Genus label with standardized attributes.__"
   ]
  },
  {
   "cell_type": "code",
   "execution_count": 12,
   "metadata": {},
   "outputs": [
    {
     "name": "stdout",
     "output_type": "stream",
     "text": [
      "Best C: 10\n",
      "Best Gamma: 0.1\n"
     ]
    }
   ],
   "source": [
    "clf8 = GridSearchCV(cv=10, estimator=SVC(), param_grid=params, n_jobs=-1)\n",
    "clf8.fit(X_train_std, training_data.iloc[:,23:24].values.ravel())   \n",
    "print('Best C:',clf8.best_estimator_.C)\n",
    "print('Best Gamma:',clf8.best_estimator_.gamma)"
   ]
  },
  {
   "cell_type": "markdown",
   "metadata": {},
   "source": [
    "__Finding the Hamming Loss & Exact match ratio for Genus label with standardized attributes.__"
   ]
  },
  {
   "cell_type": "code",
   "execution_count": 13,
   "metadata": {},
   "outputs": [
    {
     "name": "stdout",
     "output_type": "stream",
     "text": [
      "Hamming Loss:  0.012042612320518759\n",
      "Exact Match ratio:  0.9879573876794813\n"
     ]
    }
   ],
   "source": [
    "clf9 = SVC(kernel=\"rbf\", gamma=0.1, C=10)\n",
    "clf9.fit(X_train_std, training_data.iloc[:,23:24].values.ravel())\n",
    "y_pred5 = clf9.predict(X_test_std)\n",
    "print(\"Hamming Loss: \", hamming_loss(test_data.iloc[:,23:24].values.ravel(), y_pred5))\n",
    "print(\"Exact Match ratio: \", accuracy_score(test_data.iloc[:,23:24].values.ravel(), y_pred5))"
   ]
  },
  {
   "cell_type": "markdown",
   "metadata": {},
   "source": [
    "__Finding best C & Gamma using cross-validation for Species label with standardized attributes.__"
   ]
  },
  {
   "cell_type": "code",
   "execution_count": 14,
   "metadata": {},
   "outputs": [
    {
     "name": "stdout",
     "output_type": "stream",
     "text": [
      "Best C: 1000\n",
      "Best Gamma: 0.01\n"
     ]
    }
   ],
   "source": [
    "claf = GridSearchCV(cv=10, estimator=SVC(), param_grid=params, n_jobs=-1)\n",
    "claf.fit(X_train_std, training_data.iloc[:,24:25].values.ravel())   \n",
    "print('Best C:',claf.best_estimator_.C)\n",
    "print('Best Gamma:',claf.best_estimator_.gamma)"
   ]
  },
  {
   "cell_type": "markdown",
   "metadata": {},
   "source": [
    "__Finding the Hamming Loss & Exact match ratio for Species label with standardized attributes.__"
   ]
  },
  {
   "cell_type": "code",
   "execution_count": 15,
   "metadata": {},
   "outputs": [
    {
     "name": "stdout",
     "output_type": "stream",
     "text": [
      "Hamming Loss:  0.010653080129689671\n",
      "Exact Match ratio:  0.9893469198703103\n"
     ]
    }
   ],
   "source": [
    "claf1 = SVC(kernel=\"rbf\", gamma=0.01, C=1000)\n",
    "claf1.fit(X_train_std, training_data.iloc[:,24:25].values.ravel())\n",
    "y_pred6 = claf1.predict(X_test_std)\n",
    "print(\"Hamming Loss: \", hamming_loss(test_data.iloc[:,24:25].values.ravel(), y_pred6))\n",
    "print(\"Exact Match ratio: \", accuracy_score(test_data.iloc[:,24:25].values.ravel(), y_pred6))"
   ]
  },
  {
   "cell_type": "markdown",
   "metadata": {},
   "source": [
    "<br>__iii. L1-penalized SVMs.__"
   ]
  },
  {
   "cell_type": "markdown",
   "metadata": {},
   "source": [
    "__Finding best C using cross-validation for Family label.__"
   ]
  },
  {
   "cell_type": "code",
   "execution_count": 16,
   "metadata": {},
   "outputs": [
    {
     "name": "stdout",
     "output_type": "stream",
     "text": [
      "Best C: 1\n"
     ]
    }
   ],
   "source": [
    "params_l1 = {'C': [1, 10, 100, 1000]}\n",
    "claf2 = GridSearchCV(cv=10, estimator=LinearSVC(penalty='l1',random_state=0,loss='squared_hinge',dual=False,max_iter=10000), param_grid=params_l1, n_jobs=-1)\n",
    "claf2.fit(X_train_std, training_data.iloc[:,22:23].values.ravel())   \n",
    "print('Best C:',claf2.best_estimator_.C)"
   ]
  },
  {
   "cell_type": "markdown",
   "metadata": {},
   "source": [
    "__Finding the Hamming Loss & Exact match ratio for Family label.__"
   ]
  },
  {
   "cell_type": "code",
   "execution_count": 17,
   "metadata": {},
   "outputs": [
    {
     "name": "stdout",
     "output_type": "stream",
     "text": [
      "Hamming Loss:  0.07132931912922649\n",
      "Exact Match ratio:  0.9286706808707735\n"
     ]
    }
   ],
   "source": [
    "claf3 = LinearSVC(penalty='l1', random_state=0, C=1, loss='squared_hinge', dual=False, max_iter=10000)\n",
    "claf3.fit(X_train_std, training_data.iloc[:,22:23].values.ravel())\n",
    "y_pred7 = claf3.predict(X_test_std)\n",
    "print(\"Hamming Loss: \", hamming_loss(test_data.iloc[:,22:23].values.ravel(), y_pred7))\n",
    "print(\"Exact Match ratio: \", accuracy_score(test_data.iloc[:,22:23].values.ravel(), y_pred7))"
   ]
  },
  {
   "cell_type": "markdown",
   "metadata": {},
   "source": [
    "__Finding best C using cross-validation for Genus label.__"
   ]
  },
  {
   "cell_type": "code",
   "execution_count": 18,
   "metadata": {},
   "outputs": [
    {
     "name": "stdout",
     "output_type": "stream",
     "text": [
      "Best C: 10\n"
     ]
    }
   ],
   "source": [
    "claf4 = GridSearchCV(cv=10, estimator=LinearSVC(penalty='l1',random_state=0,loss='squared_hinge',dual=False,max_iter=10000), param_grid=params_l1, n_jobs=-1)\n",
    "claf4.fit(X_train_std, training_data.iloc[:,23:24].values.ravel())   \n",
    "print('Best C:',claf4.best_estimator_.C)"
   ]
  },
  {
   "cell_type": "markdown",
   "metadata": {},
   "source": [
    "__Finding the Hamming Loss & Exact match ratio for Genus label.__"
   ]
  },
  {
   "cell_type": "code",
   "execution_count": 19,
   "metadata": {},
   "outputs": [
    {
     "name": "stdout",
     "output_type": "stream",
     "text": [
      "Hamming Loss:  0.058360352014821676\n",
      "Exact Match ratio:  0.9416396479851783\n"
     ]
    }
   ],
   "source": [
    "claf5 = LinearSVC(penalty='l1', random_state=0, C=10, loss='squared_hinge', dual=False, max_iter=10000)\n",
    "claf5.fit(X_train_std, training_data.iloc[:,23:24].values.ravel())\n",
    "y_pred8 = claf5.predict(X_test_std)\n",
    "print(\"Hamming Loss: \", hamming_loss(test_data.iloc[:,23:24].values.ravel(), y_pred8))\n",
    "print(\"Exact Match ratio: \", accuracy_score(test_data.iloc[:,23:24].values.ravel(), y_pred8))"
   ]
  },
  {
   "cell_type": "markdown",
   "metadata": {},
   "source": [
    "__Finding best C using cross-validation for Species label.__"
   ]
  },
  {
   "cell_type": "code",
   "execution_count": 20,
   "metadata": {},
   "outputs": [
    {
     "name": "stdout",
     "output_type": "stream",
     "text": [
      "Best C: 1\n"
     ]
    }
   ],
   "source": [
    "claf6 = GridSearchCV(cv=10, estimator=LinearSVC(penalty='l1',random_state=0,loss='squared_hinge',dual=False,max_iter=10000), param_grid=params_l1, n_jobs=-1)\n",
    "claf6.fit(X_train_std, training_data.iloc[:,24:25].values.ravel())   \n",
    "print('Best C:',claf6.best_estimator_.C)"
   ]
  },
  {
   "cell_type": "markdown",
   "metadata": {},
   "source": [
    "__Finding the Hamming Loss & Exact match ratio for Species label.__"
   ]
  },
  {
   "cell_type": "code",
   "execution_count": 21,
   "metadata": {},
   "outputs": [
    {
     "name": "stdout",
     "output_type": "stream",
     "text": [
      "Hamming Loss:  0.04075961093098657\n",
      "Exact Match ratio:  0.9592403890690134\n"
     ]
    }
   ],
   "source": [
    "claf7 = LinearSVC(penalty='l1', random_state=0, C=1, loss='squared_hinge', dual=False, max_iter=10000)\n",
    "claf7.fit(X_train_std, training_data.iloc[:,24:25].values.ravel())\n",
    "y_pred9 = claf7.predict(X_test_std)\n",
    "print(\"Hamming Loss: \", hamming_loss(test_data.iloc[:,24:25].values.ravel(), y_pred9))\n",
    "print(\"Exact Match ratio: \", accuracy_score(test_data.iloc[:,24:25].values.ravel(), y_pred9))"
   ]
  },
  {
   "cell_type": "markdown",
   "metadata": {},
   "source": [
    "<br>__iv. SMOTE to deal with class imbalance.__"
   ]
  },
  {
   "cell_type": "markdown",
   "metadata": {},
   "source": [
    "__Oversampling minority class using SMOTE for family label.__"
   ]
  },
  {
   "cell_type": "code",
   "execution_count": 22,
   "metadata": {},
   "outputs": [],
   "source": [
    "sm = SMOTE(random_state=2)\n",
    "X_train_sm, y_train_sm = sm.fit_sample(X_train_std, training_data.iloc[:,22:23].values.ravel())"
   ]
  },
  {
   "cell_type": "markdown",
   "metadata": {},
   "source": [
    "__Finding best C using cross-validation for Family label.__"
   ]
  },
  {
   "cell_type": "code",
   "execution_count": 23,
   "metadata": {},
   "outputs": [
    {
     "name": "stdout",
     "output_type": "stream",
     "text": [
      "Best C: 10\n"
     ]
    }
   ],
   "source": [
    "params_l1 = {'C': [1, 10, 100, 1000]}\n",
    "claf8 = GridSearchCV(cv=10, estimator=LinearSVC(penalty='l1', random_state=0, loss='squared_hinge', dual=False, max_iter=10000), param_grid=params_l1, n_jobs=-1)\n",
    "claf8.fit(X_train_sm, y_train_sm)   \n",
    "print('Best C:',claf8.best_estimator_.C)"
   ]
  },
  {
   "cell_type": "markdown",
   "metadata": {},
   "source": [
    "__Finding the Hamming Loss & Exact match ratio for Family label.__"
   ]
  },
  {
   "cell_type": "code",
   "execution_count": 24,
   "metadata": {},
   "outputs": [
    {
     "name": "stdout",
     "output_type": "stream",
     "text": [
      "Hamming Loss:  0.0921723019916628\n",
      "Exact Match ratio:  0.9078276980083372\n"
     ]
    }
   ],
   "source": [
    "claf9 = LinearSVC(penalty='l1', random_state=0, C=10, loss='squared_hinge', dual=False, max_iter=10000)\n",
    "claf9.fit(X_train_sm, y_train_sm)\n",
    "pred_y = claf9.predict(X_test_std)\n",
    "print(\"Hamming Loss: \", hamming_loss(test_data.iloc[:,22:23].values.ravel(), pred_y))\n",
    "print(\"Exact Match ratio: \", accuracy_score(test_data.iloc[:,22:23].values.ravel(), pred_y))"
   ]
  },
  {
   "cell_type": "markdown",
   "metadata": {},
   "source": [
    "__Oversampling minority class using SMOTE for Genus label.__"
   ]
  },
  {
   "cell_type": "code",
   "execution_count": 25,
   "metadata": {},
   "outputs": [],
   "source": [
    "sm = SMOTE(random_state=2)\n",
    "X_train_sm1, y_train_sm1 = sm.fit_sample(X_train_std, training_data.iloc[:,23:24].values.ravel())"
   ]
  },
  {
   "cell_type": "markdown",
   "metadata": {},
   "source": [
    "__Finding best C using cross-validation for Genus label.__"
   ]
  },
  {
   "cell_type": "code",
   "execution_count": 26,
   "metadata": {},
   "outputs": [
    {
     "name": "stdout",
     "output_type": "stream",
     "text": [
      "Best C: 10\n"
     ]
    }
   ],
   "source": [
    "params_l1 = {'C': [1, 10, 100, 1000]}\n",
    "cv1 = GridSearchCV(cv=10, estimator=LinearSVC(penalty='l1', random_state=0, loss='squared_hinge', dual=False, max_iter=10000), param_grid=params_l1, n_jobs=-1)\n",
    "cv1.fit(X_train_sm1, y_train_sm1)   \n",
    "print('Best C:',cv1.best_estimator_.C)"
   ]
  },
  {
   "cell_type": "markdown",
   "metadata": {},
   "source": [
    "__Finding the Hamming Loss & Exact match ratio for Genus label.__"
   ]
  },
  {
   "cell_type": "code",
   "execution_count": 27,
   "metadata": {},
   "outputs": [
    {
     "name": "stdout",
     "output_type": "stream",
     "text": [
      "Hamming Loss:  0.0968040759610931\n",
      "Exact Match ratio:  0.9031959240389069\n"
     ]
    }
   ],
   "source": [
    "svc1 = LinearSVC(penalty='l1', random_state=0, C=10, loss='squared_hinge', dual=False, max_iter=10000)\n",
    "svc1.fit(X_train_sm1, y_train_sm1)\n",
    "pred_y1 = svc1.predict(X_test_std)\n",
    "print(\"Hamming Loss: \", hamming_loss(test_data.iloc[:,23:24].values.ravel(), pred_y1))\n",
    "print(\"Exact Match ratio: \", accuracy_score(test_data.iloc[:,23:24].values.ravel(), pred_y1))"
   ]
  },
  {
   "cell_type": "markdown",
   "metadata": {},
   "source": [
    "__Oversampling minority class using SMOTE for Species label.__"
   ]
  },
  {
   "cell_type": "code",
   "execution_count": 28,
   "metadata": {},
   "outputs": [],
   "source": [
    "sm = SMOTE(random_state=2)\n",
    "X_train_sm2, y_train_sm2 = sm.fit_sample(X_train_std, training_data.iloc[:,24:25].values.ravel())"
   ]
  },
  {
   "cell_type": "markdown",
   "metadata": {},
   "source": [
    "__Finding best C using cross-validation for Species label.__"
   ]
  },
  {
   "cell_type": "code",
   "execution_count": 29,
   "metadata": {},
   "outputs": [
    {
     "name": "stdout",
     "output_type": "stream",
     "text": [
      "Best C: 100\n"
     ]
    }
   ],
   "source": [
    "cv2 = GridSearchCV(cv=10, estimator=LinearSVC(penalty='l1',random_state=0,loss='squared_hinge',dual=False,max_iter=10000), param_grid=params_l1, n_jobs=-1)\n",
    "cv2.fit(X_train_sm2, y_train_sm2)   \n",
    "print('Best C:',cv2.best_estimator_.C)"
   ]
  },
  {
   "cell_type": "markdown",
   "metadata": {},
   "source": [
    "__Finding the Hamming Loss & Exact match ratio for Species label.__"
   ]
  },
  {
   "cell_type": "code",
   "execution_count": 30,
   "metadata": {},
   "outputs": [
    {
     "name": "stdout",
     "output_type": "stream",
     "text": [
      "Hamming Loss:  0.042612320518758684\n",
      "Exact Match ratio:  0.9573876794812413\n"
     ]
    }
   ],
   "source": [
    "svc2 = LinearSVC(penalty='l1', random_state=0, C=100, loss='squared_hinge', dual=False, max_iter=10000)\n",
    "svc2.fit(X_train_sm2, y_train_sm2)\n",
    "pred_y2 = svc2.predict(X_test_std)\n",
    "print(\"Hamming Loss: \", hamming_loss(test_data.iloc[:,24:25].values.ravel(), pred_y2))\n",
    "print(\"Exact Match ratio: \", accuracy_score(test_data.iloc[:,24:25].values.ravel(), pred_y2))"
   ]
  },
  {
   "cell_type": "markdown",
   "metadata": {},
   "source": [
    "<br><br>__2. K-Means Clustering on a Multi-Class and Multi-Label Data Set.__"
   ]
  },
  {
   "cell_type": "markdown",
   "metadata": {},
   "source": [
    "__(a) K-means clustering__"
   ]
  },
  {
   "cell_type": "code",
   "execution_count": 31,
   "metadata": {},
   "outputs": [],
   "source": [
    "data_set = data\n",
    "\n",
    "data_set = data_set.replace('Bufonidae',0)\n",
    "data_set = data_set.replace('Dendrobatidae',1)\n",
    "data_set = data_set.replace('Hylidae',2)\n",
    "data_set = data_set.replace('Leptodactylidae',3)\n",
    "\n",
    "data_set = data_set.replace('Adenomera',0)\n",
    "data_set = data_set.replace('Ameerega',1)\n",
    "data_set = data_set.replace('Dendropsophus',2)\n",
    "data_set = data_set.replace('Hypsiboas',3)\n",
    "data_set = data_set.replace('Leptodactylus',4)\n",
    "data_set = data_set.replace('Osteocephalus',5)\n",
    "data_set = data_set.replace('Rhinella',6)\n",
    "data_set = data_set.replace('Scinax',7)\n",
    "\n",
    "data_set = data_set.replace('AdenomeraAndre',0)\n",
    "data_set = data_set.replace('AdenomeraHylaedactylus',1)\n",
    "data_set = data_set.replace('Ameeregatrivittata',2)\n",
    "data_set = data_set.replace('HylaMinuta',3)\n",
    "data_set = data_set.replace('HypsiboasCinerascens',4)\n",
    "data_set = data_set.replace('HypsiboasCordobae',5)\n",
    "data_set = data_set.replace('LeptodactylusFuscus',6)\n",
    "data_set = data_set.replace('OsteocephalusOophagus',7)\n",
    "data_set = data_set.replace('Rhinellagranulosa',8)\n",
    "data_set = data_set.replace('ScinaxRuber',9)"
   ]
  },
  {
   "cell_type": "code",
   "execution_count": 32,
   "metadata": {},
   "outputs": [
    {
     "name": "stdout",
     "output_type": "stream",
     "text": [
      "For n_clusters = 2 The average silhouette_score is : 0.3486778410277152\n",
      "For n_clusters = 3 The average silhouette_score is : 0.36768245219926315\n",
      "For n_clusters = 4 The average silhouette_score is : 0.3787509343305295\n",
      "For n_clusters = 5 The average silhouette_score is : 0.3714828057802203\n",
      "For n_clusters = 6 The average silhouette_score is : 0.2639575223654826\n",
      "For n_clusters = 7 The average silhouette_score is : 0.26063587785642767\n",
      "For n_clusters = 8 The average silhouette_score is : 0.25476282597833133\n",
      "For n_clusters = 9 The average silhouette_score is : 0.2762425838810639\n",
      "For n_clusters = 10 The average silhouette_score is : 0.2624669280635291\n",
      "For n_clusters = 11 The average silhouette_score is : 0.2714493919668881\n",
      "For n_clusters = 12 The average silhouette_score is : 0.27114249474339275\n",
      "For n_clusters = 13 The average silhouette_score is : 0.2746296729972097\n",
      "For n_clusters = 14 The average silhouette_score is : 0.28295590739731163\n",
      "For n_clusters = 15 The average silhouette_score is : 0.268975242726816\n",
      "For n_clusters = 16 The average silhouette_score is : 0.27545798514167624\n",
      "For n_clusters = 17 The average silhouette_score is : 0.2760156715420779\n",
      "For n_clusters = 18 The average silhouette_score is : 0.28536226994778585\n",
      "For n_clusters = 19 The average silhouette_score is : 0.283679668594094\n",
      "For n_clusters = 20 The average silhouette_score is : 0.2716200239260971\n",
      "For n_clusters = 21 The average silhouette_score is : 0.2736427152115167\n",
      "For n_clusters = 22 The average silhouette_score is : 0.2701260129760345\n",
      "For n_clusters = 23 The average silhouette_score is : 0.2724186267298953\n",
      "For n_clusters = 24 The average silhouette_score is : 0.27265212538064354\n",
      "For n_clusters = 25 The average silhouette_score is : 0.2674919090374383\n",
      "For n_clusters = 26 The average silhouette_score is : 0.270116317024385\n",
      "For n_clusters = 27 The average silhouette_score is : 0.2599634776642842\n",
      "For n_clusters = 28 The average silhouette_score is : 0.25970578877471445\n",
      "For n_clusters = 29 The average silhouette_score is : 0.26719522530829704\n",
      "For n_clusters = 30 The average silhouette_score is : 0.26039314832870714\n",
      "For n_clusters = 31 The average silhouette_score is : 0.24762086675485598\n",
      "For n_clusters = 32 The average silhouette_score is : 0.2615047605526558\n",
      "For n_clusters = 33 The average silhouette_score is : 0.24148864249459406\n",
      "For n_clusters = 34 The average silhouette_score is : 0.2603260705399643\n",
      "For n_clusters = 35 The average silhouette_score is : 0.2593185376983138\n",
      "For n_clusters = 36 The average silhouette_score is : 0.2645439145382984\n",
      "For n_clusters = 37 The average silhouette_score is : 0.26501103501119705\n",
      "For n_clusters = 38 The average silhouette_score is : 0.2658072842027871\n",
      "For n_clusters = 39 The average silhouette_score is : 0.2527709102544427\n",
      "For n_clusters = 40 The average silhouette_score is : 0.261709054884422\n",
      "For n_clusters = 41 The average silhouette_score is : 0.24219091991820366\n",
      "For n_clusters = 42 The average silhouette_score is : 0.23519905049749765\n",
      "For n_clusters = 43 The average silhouette_score is : 0.21611583374382687\n",
      "For n_clusters = 44 The average silhouette_score is : 0.2441096817624867\n",
      "For n_clusters = 45 The average silhouette_score is : 0.26161908750288626\n",
      "For n_clusters = 46 The average silhouette_score is : 0.23406546377800427\n",
      "For n_clusters = 47 The average silhouette_score is : 0.2548057574238214\n",
      "For n_clusters = 48 The average silhouette_score is : 0.2219524196528445\n",
      "For n_clusters = 49 The average silhouette_score is : 0.23754173891454863\n",
      "For n_clusters = 50 The average silhouette_score is : 0.224172634877529\n"
     ]
    }
   ],
   "source": [
    "clusters = []\n",
    "sil_avg = []\n",
    "for n_clusters in range(2,51):\n",
    "    clusterer = KMeans(n_clusters=n_clusters, random_state=10)\n",
    "    cluster_labels = clusterer.fit_predict(data_set.iloc[:,0:22])\n",
    "    silhouette_avg = silhouette_score(data_set.iloc[:,0:22], cluster_labels, metric='euclidean')\n",
    "    print(\"For n_clusters =\", n_clusters, \"The average silhouette_score is :\", silhouette_avg)\n",
    "    clusters.append(n_clusters)\n",
    "    sil_avg.append(silhouette_avg)\n",
    "scores = pd.DataFrame()\n",
    "scores.insert(0,'n_clusters',clusters)  \n",
    "scores.insert(1,'Silhouette score',sil_avg)"
   ]
  },
  {
   "cell_type": "code",
   "execution_count": 33,
   "metadata": {},
   "outputs": [
    {
     "name": "stdout",
     "output_type": "stream",
     "text": [
      "Best Silhouette score:  0.3787509343305295  is obtained for n_cluster=  4\n"
     ]
    }
   ],
   "source": [
    "print('Best Silhouette score: ', scores['Silhouette score'].max(),' is obtained for n_cluster= ',scores.loc[scores['Silhouette score']==scores['Silhouette score'].max(), 'n_clusters'].iloc[0])"
   ]
  },
  {
   "cell_type": "markdown",
   "metadata": {},
   "source": [
    "__(b) In each cluster, determine which family is the majority by reading the true labels. Repeat for genus and species.__"
   ]
  },
  {
   "cell_type": "code",
   "execution_count": 34,
   "metadata": {},
   "outputs": [],
   "source": [
    "clusterer = KMeans(n_clusters=4, random_state=10)\n",
    "cluster_labels = clusterer.fit_predict(data_set.iloc[:,0:22])"
   ]
  },
  {
   "cell_type": "code",
   "execution_count": 35,
   "metadata": {},
   "outputs": [],
   "source": [
    "cluster0_family = []\n",
    "cluster0_genus = []\n",
    "cluster0_species = []\n",
    "cluster1_family = []\n",
    "cluster1_genus = []\n",
    "cluster1_species = []\n",
    "cluster2_family = []\n",
    "cluster2_genus = []\n",
    "cluster2_species = []\n",
    "cluster3_family = []\n",
    "cluster3_genus = []\n",
    "cluster3_species = []\n",
    "cluster0_pred = []\n",
    "cluster1_pred = []\n",
    "cluster2_pred = []\n",
    "cluster3_pred = []\n",
    "for i in range(0,7195):\n",
    "        if cluster_labels[i] == 0:\n",
    "            cluster0_family.append(data_set['Family'][i])\n",
    "            cluster0_genus.append(data_set['Genus'][i])\n",
    "            cluster0_species.append(data_set['Species'][i])\n",
    "            cluster0_pred.append(cluster_labels[i])\n",
    "        elif cluster_labels[i] == 1:\n",
    "            cluster1_family.append(data_set['Family'][i])\n",
    "            cluster1_genus.append(data_set['Genus'][i])\n",
    "            cluster1_species.append(data_set['Species'][i])\n",
    "            cluster1_pred.append(cluster_labels[i])\n",
    "        elif cluster_labels[i] == 2:\n",
    "            cluster2_family.append(data_set['Family'][i])\n",
    "            cluster2_genus.append(data_set['Genus'][i])\n",
    "            cluster2_species.append(data_set['Species'][i])\n",
    "            cluster2_pred.append(cluster_labels[i])\n",
    "        elif cluster_labels[i] == 3:\n",
    "            cluster3_family.append(data_set['Family'][i])\n",
    "            cluster3_genus.append(data_set['Genus'][i])\n",
    "            cluster3_species.append(data_set['Species'][i])\n",
    "            cluster3_pred.append(cluster_labels[i])"
   ]
  },
  {
   "cell_type": "code",
   "execution_count": 36,
   "metadata": {},
   "outputs": [
    {
     "name": "stdout",
     "output_type": "stream",
     "text": [
      "[(3, 3467)]\n"
     ]
    }
   ],
   "source": [
    "family0 = Counter(cluster0_family)\n",
    "print(family0.most_common(1))"
   ]
  },
  {
   "cell_type": "markdown",
   "metadata": {},
   "source": [
    "__The most common Family in Cluster 0 is Leptodactylidae with a count of 3467.__"
   ]
  },
  {
   "cell_type": "code",
   "execution_count": 37,
   "metadata": {},
   "outputs": [
    {
     "name": "stdout",
     "output_type": "stream",
     "text": [
      "[(0, 3466)]\n"
     ]
    }
   ],
   "source": [
    "genus0 = Counter(cluster0_genus)\n",
    "print(genus0.most_common(1))"
   ]
  },
  {
   "cell_type": "markdown",
   "metadata": {},
   "source": [
    "__The most common Genus in Cluster 0 is Adenomera with a count of 3466.__"
   ]
  },
  {
   "cell_type": "code",
   "execution_count": 38,
   "metadata": {},
   "outputs": [
    {
     "name": "stdout",
     "output_type": "stream",
     "text": [
      "[(1, 3466)]\n"
     ]
    }
   ],
   "source": [
    "species0 = Counter(cluster0_species)\n",
    "print(species0.most_common(1))"
   ]
  },
  {
   "cell_type": "markdown",
   "metadata": {},
   "source": [
    "__The most common Species in Cluster 0 is AdenomeraHylaedactylus with a count of 3466.__"
   ]
  },
  {
   "cell_type": "code",
   "execution_count": 39,
   "metadata": {},
   "outputs": [
    {
     "name": "stdout",
     "output_type": "stream",
     "text": [
      "[(2, 1245)]\n"
     ]
    }
   ],
   "source": [
    "family1 = Counter(cluster1_family)\n",
    "print(family1.most_common(1))"
   ]
  },
  {
   "cell_type": "markdown",
   "metadata": {},
   "source": [
    "__The most common Family in Cluster 1 is Hylidae with a count of 1245.__"
   ]
  },
  {
   "cell_type": "code",
   "execution_count": 40,
   "metadata": {},
   "outputs": [
    {
     "name": "stdout",
     "output_type": "stream",
     "text": [
      "[(3, 1038)]\n"
     ]
    }
   ],
   "source": [
    "genus1 = Counter(cluster1_genus)\n",
    "print(genus1.most_common(1))"
   ]
  },
  {
   "cell_type": "markdown",
   "metadata": {},
   "source": [
    "__The most common Genus in Cluster 1 is Hypsiboas with a count of 1038.__"
   ]
  },
  {
   "cell_type": "code",
   "execution_count": 41,
   "metadata": {},
   "outputs": [
    {
     "name": "stdout",
     "output_type": "stream",
     "text": [
      "[(5, 1018)]\n"
     ]
    }
   ],
   "source": [
    "species1 = Counter(cluster1_species)\n",
    "print(species1.most_common(1))"
   ]
  },
  {
   "cell_type": "markdown",
   "metadata": {},
   "source": [
    "__The most common Species in Cluster 1 is HypsiboasCordobae with a count of 1018.__"
   ]
  },
  {
   "cell_type": "code",
   "execution_count": 42,
   "metadata": {},
   "outputs": [
    {
     "name": "stdout",
     "output_type": "stream",
     "text": [
      "[(1, 500)]\n"
     ]
    }
   ],
   "source": [
    "family2 = Counter(cluster2_family)\n",
    "print(family2.most_common(1))"
   ]
  },
  {
   "cell_type": "markdown",
   "metadata": {},
   "source": [
    "__The most common Family in Cluster 2 is Dendrobatidae with a count of 500.__"
   ]
  },
  {
   "cell_type": "code",
   "execution_count": 43,
   "metadata": {},
   "outputs": [
    {
     "name": "stdout",
     "output_type": "stream",
     "text": [
      "[(1, 500)]\n"
     ]
    }
   ],
   "source": [
    "genus2 = Counter(cluster2_genus)\n",
    "print(genus2.most_common(1))"
   ]
  },
  {
   "cell_type": "markdown",
   "metadata": {},
   "source": [
    "__The most common Genus in Cluster 2 is Ameerega with a count of 500.__"
   ]
  },
  {
   "cell_type": "code",
   "execution_count": 44,
   "metadata": {},
   "outputs": [
    {
     "name": "stdout",
     "output_type": "stream",
     "text": [
      "[(2, 500)]\n"
     ]
    }
   ],
   "source": [
    "species2 = Counter(cluster2_species)\n",
    "print(species2.most_common(1))"
   ]
  },
  {
   "cell_type": "markdown",
   "metadata": {},
   "source": [
    "__The most common Species in Cluster 2 is Ameeregatrivittata with a count of 500.__"
   ]
  },
  {
   "cell_type": "code",
   "execution_count": 45,
   "metadata": {},
   "outputs": [
    {
     "name": "stdout",
     "output_type": "stream",
     "text": [
      "[(2, 590)]\n"
     ]
    }
   ],
   "source": [
    "family3 = Counter(cluster3_family)\n",
    "print(family3.most_common(1))"
   ]
  },
  {
   "cell_type": "markdown",
   "metadata": {},
   "source": [
    "__The most common Family in Cluster 3 is Hylidae with a count of 590.__"
   ]
  },
  {
   "cell_type": "code",
   "execution_count": 46,
   "metadata": {},
   "outputs": [
    {
     "name": "stdout",
     "output_type": "stream",
     "text": [
      "[(3, 542)]\n"
     ]
    }
   ],
   "source": [
    "genus3 = Counter(cluster3_genus)\n",
    "print(genus3.most_common(1))"
   ]
  },
  {
   "cell_type": "markdown",
   "metadata": {},
   "source": [
    "__The most common Genus in Cluster 3 is Hypsiboas with a count of 542.__"
   ]
  },
  {
   "cell_type": "code",
   "execution_count": 47,
   "metadata": {},
   "outputs": [
    {
     "name": "stdout",
     "output_type": "stream",
     "text": [
      "[(4, 452)]\n"
     ]
    }
   ],
   "source": [
    "species3 = Counter(cluster3_species)\n",
    "print(species3.most_common(1))"
   ]
  },
  {
   "cell_type": "markdown",
   "metadata": {},
   "source": [
    "__The most common Species in Cluster 3 is HypsiboasCinerascens with a count of 452.__"
   ]
  },
  {
   "cell_type": "markdown",
   "metadata": {},
   "source": [
    "<br>__(c)Hamming Distance, Hamming Loss & Hamming Score for each cluster.__"
   ]
  },
  {
   "cell_type": "code",
   "execution_count": 48,
   "metadata": {},
   "outputs": [
    {
     "name": "stdout",
     "output_type": "stream",
     "text": [
      "Hamming Distance for Cluster 0:  0.6761958146487294\n",
      "Hamming Loss for Cluster 0:  0.02849402092675635\n",
      "Hamming Score for Cluster 0:  0.4857529895366219\n"
     ]
    }
   ],
   "source": [
    "hd0 = (distance.hamming(cluster0_family,cluster0_pred)+distance.hamming(cluster0_genus,cluster0_pred)+distance.hamming(cluster0_species,cluster0_pred))/3\n",
    "\n",
    "d = len(cluster0_pred)\n",
    "\n",
    "correct_fam0 = 0\n",
    "wrong_fam0 = 0\n",
    "for i in cluster0_family:\n",
    "    if i == 3:\n",
    "        correct_fam0 = correct_fam0+1\n",
    "    else:\n",
    "        wrong_fam0 = wrong_fam0+1\n",
    "\n",
    "correct_gen0 = 0\n",
    "wrong_gen0 = 0\n",
    "for i in cluster0_genus:\n",
    "    if i == 0:\n",
    "        correct_gen0 = correct_gen0+1\n",
    "    else:\n",
    "        wrong_gen0 = wrong_gen0+1\n",
    "\n",
    "correct_spe0 = 0\n",
    "wrong_spe0 = 0\n",
    "for i in cluster0_species:\n",
    "    if i == 1:\n",
    "        correct_spe0 = correct_spe0+1\n",
    "    else:\n",
    "        wrong_spe0 = wrong_spe0+1\n",
    "\n",
    "hl0 = ((wrong_fam0/d)+(wrong_gen0/d)+(wrong_spe0/d))/3\n",
    "hs0 = ((correct_fam0/(d+d))+(correct_gen0/(d+d))+(correct_spe0/(d+d)))/3\n",
    "\n",
    "print(\"Hamming Distance for Cluster 0: \", hd0)\n",
    "print(\"Hamming Loss for Cluster 0: \", hl0)\n",
    "print(\"Hamming Score for Cluster 0: \", hs0)"
   ]
  },
  {
   "cell_type": "code",
   "execution_count": 49,
   "metadata": {},
   "outputs": [
    {
     "name": "stdout",
     "output_type": "stream",
     "text": [
      "Hamming Distance for Cluster 1:  0.9848637739656912\n",
      "Hamming Loss for Cluster 1:  0.44483686511940795\n",
      "Hamming Score for Cluster 1:  0.277581567440296\n"
     ]
    }
   ],
   "source": [
    "hd1 = (distance.hamming(cluster1_family,cluster1_pred)+distance.hamming(cluster1_genus,cluster1_pred)+distance.hamming(cluster1_species,cluster1_pred))/3\n",
    "\n",
    "d = len(cluster1_pred)\n",
    "correct_fam1 = 0\n",
    "wrong_fam1 = 0\n",
    "for i in cluster1_family:\n",
    "    if i == 2:\n",
    "        correct_fam1 = correct_fam1+1\n",
    "    else:\n",
    "        wrong_fam1 = wrong_fam1+1\n",
    "\n",
    "correct_gen1 = 0\n",
    "wrong_gen1 = 0\n",
    "for i in cluster1_genus:\n",
    "    if i == 3:\n",
    "        correct_gen1 = correct_gen1+1\n",
    "    else:\n",
    "        wrong_gen1 = wrong_gen1+1\n",
    "\n",
    "correct_spe1 = 0\n",
    "wrong_spe1 = 0\n",
    "for i in cluster1_species:\n",
    "    if i == 5:\n",
    "        correct_spe1 = correct_spe1+1\n",
    "    else:\n",
    "        wrong_spe1 = wrong_spe1+1\n",
    "\n",
    "hl1 = ((wrong_fam1/d)+(wrong_gen1/d)+(wrong_spe1/d))/3\n",
    "hs1 = ((correct_fam1/(d+d))+(correct_gen1/(d+d))+(correct_spe1/(d+d)))/3\n",
    "\n",
    "print(\"Hamming Distance for Cluster 1: \", hd1)\n",
    "print(\"Hamming Loss for Cluster 1: \", hl1)\n",
    "print(\"Hamming Score for Cluster 1: \", hs1)"
   ]
  },
  {
   "cell_type": "code",
   "execution_count": 50,
   "metadata": {},
   "outputs": [
    {
     "name": "stdout",
     "output_type": "stream",
     "text": [
      "Hamming Distance for Cluster 2:  0.7032007759456839\n",
      "Hamming Loss for Cluster 2:  0.5150339476236664\n",
      "Hamming Score for Cluster 2:  0.24248302618816683\n"
     ]
    }
   ],
   "source": [
    "hd2 = (distance.hamming(cluster2_family,cluster2_pred)+distance.hamming(cluster2_genus,cluster2_pred)+distance.hamming(cluster2_species,cluster2_pred))/3\n",
    "\n",
    "d = len(cluster2_pred)\n",
    "correct_fam2 = 0\n",
    "wrong_fam2 = 0\n",
    "for i in cluster2_family:\n",
    "    if i == 1:\n",
    "        correct_fam2 = correct_fam2+1\n",
    "    else:\n",
    "        wrong_fam2 = wrong_fam2+1\n",
    "\n",
    "correct_gen2 = 0\n",
    "wrong_gen2 = 0\n",
    "for i in cluster2_genus:\n",
    "    if i == 1:\n",
    "        correct_gen2 = correct_gen2+1\n",
    "    else:\n",
    "        wrong_gen2 = wrong_gen2+1\n",
    "\n",
    "correct_spe2 = 0\n",
    "wrong_spe2 = 0\n",
    "for i in cluster2_species:\n",
    "    if i == 2:\n",
    "        correct_spe2 = correct_spe2+1\n",
    "    else:\n",
    "        wrong_spe2 = wrong_spe2+1\n",
    "\n",
    "hl2 = ((wrong_fam2/d)+(wrong_gen2/d)+(wrong_spe2/d))/3\n",
    "hs2 = ((correct_fam2/(d+d))+(correct_gen2/(d+d))+(correct_spe2/(d+d)))/3\n",
    "\n",
    "print(\"Hamming Distance for Cluster 2: \", hd2)\n",
    "print(\"Hamming Loss for Cluster 2: \", hl2)\n",
    "print(\"Hamming Score for Cluster 2: \", hs2)"
   ]
  },
  {
   "cell_type": "code",
   "execution_count": 51,
   "metadata": {},
   "outputs": [
    {
     "name": "stdout",
     "output_type": "stream",
     "text": [
      "Hamming Distance for Cluster 3:  0.6938110749185668\n",
      "Hamming Loss for Cluster 3:  0.14006514657980454\n",
      "Hamming Score for Cluster 3:  0.4299674267100977\n"
     ]
    }
   ],
   "source": [
    "hd3 = (distance.hamming(cluster3_family,cluster3_pred)+distance.hamming(cluster3_genus,cluster3_pred)+distance.hamming(cluster3_species,cluster3_pred))/3\n",
    "\n",
    "d = len(cluster3_pred)\n",
    "correct_fam3 = 0\n",
    "wrong_fam3 = 0\n",
    "for i in cluster3_family:\n",
    "    if i == 2:\n",
    "        correct_fam3 = correct_fam3+1\n",
    "    else:\n",
    "        wrong_fam3 = wrong_fam3+1\n",
    "\n",
    "correct_gen3 = 0\n",
    "wrong_gen3 = 0\n",
    "for i in cluster3_genus:\n",
    "    if i == 3:\n",
    "        correct_gen3 = correct_gen3+1\n",
    "    else:\n",
    "        wrong_gen3 = wrong_gen3+1\n",
    "\n",
    "correct_spe3 = 0\n",
    "wrong_spe3 = 0\n",
    "for i in cluster3_species:\n",
    "    if i == 4:\n",
    "        correct_spe3 = correct_spe3+1\n",
    "    else:\n",
    "        wrong_spe3 = wrong_spe3+1\n",
    "\n",
    "hl3 = ((wrong_fam3/d)+(wrong_gen3/d)+(wrong_spe3/d))/3\n",
    "hs3 = ((correct_fam3/(d+d))+(correct_gen3/(d+d))+(correct_spe3/(d+d)))/3\n",
    "\n",
    "print(\"Hamming Distance for Cluster 3: \", hd3)\n",
    "print(\"Hamming Loss for Cluster 3: \", hl3)\n",
    "print(\"Hamming Score for Cluster 3: \", hs3)"
   ]
  }
 ],
 "metadata": {
  "kernelspec": {
   "display_name": "Python 3",
   "language": "python",
   "name": "python3"
  },
  "language_info": {
   "codemirror_mode": {
    "name": "ipython",
    "version": 3
   },
   "file_extension": ".py",
   "mimetype": "text/x-python",
   "name": "python",
   "nbconvert_exporter": "python",
   "pygments_lexer": "ipython3",
   "version": "3.7.1"
  }
 },
 "nbformat": 4,
 "nbformat_minor": 2
}
